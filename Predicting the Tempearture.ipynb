{
  "nbformat": 4,
  "nbformat_minor": 0,
  "metadata": {
    "colab": {
      "name": "Untitled1.ipynb",
      "provenance": []
    },
    "kernelspec": {
      "name": "python3",
      "display_name": "Python 3"
    }
  },
  "cells": [
    {
      "cell_type": "code",
      "metadata": {
        "id": "W-j0wlm9_h0Y",
        "colab_type": "code",
        "colab": {}
      },
      "source": [
        "import numpy as np\n",
        "import datetime,time\n",
        "from sklearn.linear_model import LinearRegression\n",
        "\n",
        "\n",
        "\n",
        "\n",
        "# utility function\n",
        "\n",
        "def predictTemperature(startDate, endDate, temperature, n):\n",
        "    w = int(len(temperature)/24)\n",
        "    p = []\n",
        "    for i in range(1,((24*w)+1)):\n",
        "        p.append(i)\n",
        " \n",
        "    lm = LinearRegression()\n",
        "    lm.fit(np.asarray(p).reshape(-1,1),temperature)\n",
        "    \n",
        "    f = p[-1]+1\n",
        "    z = []\n",
        "    for i in range(24*n):\n",
        "        z.append(f)\n",
        "        f += 1\n",
        "    return(lm.predict(np.asarray(z).reshape(-1,1)).tolist())\n"
      ],
      "execution_count": null,
      "outputs": []
    }
  ]
}